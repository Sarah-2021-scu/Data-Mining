{
  "cells": [
    {
      "cell_type": "code",
      "execution_count": null,
      "metadata": {
        "id": "QYuhV_fvWxVA"
      },
      "outputs": [],
      "source": [
        "import numpy as np\n",
        "import matplotlib.pyplot as plt\n",
        "import pandas as pd \n",
        "from io import StringIO\n",
        "from sklearn import preprocessing\n",
        "from sklearn.preprocessing import MinMaxScaler\n",
        "from sklearn import metrics\n",
        "from sklearn.metrics import confusion_matrix\n",
        "from sklearn.feature_extraction.text import CountVectorizer, TfidfVectorizer\n",
        "import itertools\n",
        "import csv\n",
        "import re\n",
        "from collections import Counter\n",
        "from ipykernel import kernelapp as app\n",
        "\n",
        "np.set_printoptions(threshold=np.inf)\n",
        "\n",
        "#%matplotlib inline\n",
        "#%load_ext autoreload\n",
        "#%autoreload 2"
      ]
    },
    {
      "cell_type": "code",
      "execution_count": null,
      "metadata": {
        "id": "jXKwpMytWxVC"
      },
      "outputs": [],
      "source": [
        "def plotCf(a,b,t):\n",
        "    cf =confusion_matrix(a,b)\n",
        "    plt.imshow(cf,cmap=plt.cm.Blues,interpolation='nearest')\n",
        "    plt.colorbar()\n",
        "    plt.title(t)\n",
        "    plt.xlabel('Predicted')\n",
        "    plt.ylabel('Actual')\n",
        "    tick_marks = np.arange(len(set(a))) # length of classes\n",
        "    class_labels = ['0','1']\n",
        "    plt.xticks(tick_marks,class_labels)\n",
        "    plt.yticks(tick_marks,class_labels)\n",
        "    thresh = cf.max() / 2.\n",
        "    for i,j in itertools.product(range(cf.shape[0]),range(cf.shape[1])):\n",
        "        plt.text(j,i,format(cf[i,j],'d'),horizontalalignment='center',color='white' if cf[i,j] >thresh else 'black')\n",
        "    plt.show();"
      ]
    },
    {
      "cell_type": "code",
      "execution_count": null,
      "metadata": {
        "id": "nCwjbajzWxVC"
      },
      "outputs": [],
      "source": [
        "def Sigmoid(Z):\n",
        "    return 1/(1+np.exp(-Z))\n",
        "\n",
        "def Relu(Z):\n",
        "    return np.maximum(0,Z)\n",
        "\n",
        "def dRelu2(dZ, Z):    \n",
        "    dZ[Z <= 0] = 0    \n",
        "    return dZ\n",
        "\n",
        "def Tanh(x):\n",
        "    x[x<=0] = -1\n",
        "    x[x>0] = 1\n",
        "    return x\n",
        "\n",
        "def dRelu(x):\n",
        "    x[x<=0] = 0\n",
        "    x[x>0] = 1\n",
        "    return x\n",
        "\n",
        "def dSigmoid(Z):\n",
        "    s = 1/(1+np.exp(-Z))\n",
        "    dZ = s * (1-s)\n",
        "    return dZ\n",
        "\n",
        "class dlnet:\n",
        "    def __init__(self, x, y):\n",
        "        self.debug = 0;\n",
        "        self.X=x\n",
        "        self.Y=y\n",
        "        self.Yh=np.zeros((1,self.Y.shape[1])) \n",
        "        self.L=2\n",
        "        self.dims = [26, 38, 15, 1] \n",
        "        self.param = {}\n",
        "        self.ch = {}\n",
        "        self.grad = {}\n",
        "        self.loss = []\n",
        "        self.lr=0.2\n",
        "        self.sam = self.Y.shape[1]\n",
        "        self.threshold=0.5\n",
        "        self.alpha = 0.01\n",
        "        self.lambda_value = 0.006\n",
        "        self.m = self.X.shape[0]\n",
        "        \n",
        "    def nInit(self):    \n",
        "        np.random.seed(1)\n",
        "        self.param['W1'] = np.random.randn(self.dims[1], self.dims[0]) / np.sqrt(self.dims[0]) \n",
        "        self.param['b1'] = np.zeros((self.dims[1], 1))        \n",
        "        self.param['W2'] = np.random.randn(self.dims[2], self.dims[1]) / np.sqrt(self.dims[1]) \n",
        "        self.param['b2'] = np.zeros((self.dims[2], 1)) \n",
        "        self.param['W3'] = np.random.randn(self.dims[3], self.dims[2]) / np.sqrt(self.dims[2])\n",
        "        self.param['b3'] = np.zeros((self.dims[3], 1))\n",
        "        return \n",
        "\n",
        "    def forward(self):    \n",
        "        Z1 = self.param['W1'].dot(self.X) + self.param['b1'] \n",
        "        A1 = Relu(Z1)\n",
        "        self.ch['Z1'],self.ch['A1']=Z1,A1\n",
        "        \n",
        "        Z2 = self.param['W2'].dot(A1) + self.param['b2']  \n",
        "        A2 = Relu(Z2)\n",
        "        self.ch['Z2'],self.ch['A2']=Z2,A2\n",
        "\n",
        "        Z3 = self.param['W3'].dot(A2) + self.param['b3']\n",
        "        A3 = Sigmoid(Z3)\n",
        "        self.ch['Z3'],self.ch['A3']=Z3,A3\n",
        "        self.Yh=A3\n",
        "        loss=self.nloss(A3)\n",
        "        return self.Yh, loss\n",
        "    \n",
        "    def forward_test(self):\n",
        "        Z1 = self.param['W1'].dot(self.X) + self.param['b1'] \n",
        "        A1 = Relu(Z1)\n",
        "        self.ch['Z1'],self.ch['A1']=Z1,A1\n",
        "        \n",
        "        Z2 = self.param['W2'].dot(A1) + self.param['b2']  \n",
        "        A2 = Relu(Z2)\n",
        "        self.ch['Z2'],self.ch['A2']=Z2,A2\n",
        "\n",
        "        Z3 = self.param['W3'].dot(A2) + self.param['b3']\n",
        "        A3 = Sigmoid(Z3)\n",
        "        self.Yh=A3\n",
        "        print(\"Testing is done\")\n",
        "        #self.nloss(A2)\n",
        "        return self.Yh\n",
        "\n",
        "    def nloss(self,Yh):\n",
        "        l2 = (self.lambda_value / 2 * self.X.shape[1]) * (np.sum(np.square(self.param['W1'])) + np.sum(np.square(self.param['W2'])))\n",
        "        loss = (1./self.sam) * (-np.dot(self.Y,np.log(Yh).T) - np.dot(1-self.Y, np.log(1-Yh).T))  +  l2\n",
        "        return loss\n",
        "\n",
        "    def backward(self):\n",
        "        dLoss_Yh = - (np.divide(self.Y, self.Yh ) - np.divide(1 - self.Y, 1 - self.Yh))    \n",
        "        \n",
        "        dLoss_Z3 = dLoss_Yh * dSigmoid(self.ch['Z3'])\n",
        "        dLoss_A2 = np.dot(self.param[\"W3\"].T,dLoss_Z3)\n",
        "        dLoss_Z2 = dLoss_A2 * dRelu(self.ch['Z2'])    \n",
        "        dLoss_A1 = np.dot(self.param[\"W2\"].T,dLoss_Z2)\n",
        "        dLoss_W3 = 1./self.ch['A2'].shape[1] * np.dot(dLoss_Z3,self.ch['A2'].T) + np.dot(self.lambda_value,self.param[\"W3\"])\n",
        "        dLoss_b3 = 1./self.ch['A2'].shape[1] * np.dot(dLoss_Z3, np.ones([dLoss_Z3.shape[1],1]))\n",
        "        dLoss_W2 = 1./self.ch['A1'].shape[1] * np.dot(dLoss_Z2,self.ch['A1'].T) + np.dot(self.lambda_value,self.param[\"W2\"])\n",
        "        dLoss_b2 = 1./self.ch['A1'].shape[1] * np.dot(dLoss_Z2, np.ones([dLoss_Z2.shape[1],1]))\n",
        "                            \n",
        "        dLoss_Z1 = dLoss_A1 * dRelu(self.ch['Z1'])        \n",
        "        dLoss_A0 = np.dot(self.param[\"W1\"].T,dLoss_Z1)\n",
        "        dLoss_W1 = 1./self.X.shape[1] * np.dot(dLoss_Z1,self.X.T) + np.dot(self.lambda_value,self.param[\"W1\"])\n",
        "        dLoss_b1 = 1./self.X.shape[1] * np.dot(dLoss_Z1, np.ones([dLoss_Z1.shape[1],1]))         \n",
        "        #print(self.X.shape)\n",
        "        #print(self.Yh.shape)\n",
        "\n",
        "        self.param[\"W1\"] = self.param[\"W1\"] - self.lr * dLoss_W1 \n",
        "        self.param[\"b1\"] = self.param[\"b1\"] - self.lr * dLoss_b1  \n",
        "        self.param[\"W2\"] = self.param[\"W2\"] - self.lr * dLoss_W2\n",
        "        self.param[\"b2\"] = self.param[\"b2\"] - self.lr * dLoss_b2\n",
        "        self.param[\"W3\"] = self.param[\"W3\"] - self.lr * dLoss_W3\n",
        "        self.param[\"b3\"] = self.param[\"b3\"] - self.lr * dLoss_b3\n",
        "        #W = np.array[W1,W2]\n",
        "        return\n",
        "\n",
        "\n",
        "    def pred(self,x, y):  \n",
        "        self.X=x\n",
        "        self.Y=y\n",
        "        comp = np.zeros((1,x.shape[1]))\n",
        "        pred, loss= self.forward()    \n",
        "    \n",
        "        for i in range(0, pred.shape[1]):\n",
        "            if pred[0,i] > self.threshold: comp[0,i] = 1\n",
        "            else: comp[0,i] = 0\n",
        "    \n",
        "        print(\"Acc: \" + str(np.sum((comp == y)/x.shape[1])))\n",
        "        \n",
        "        return comp\n",
        "    \n",
        "    def gd(self,X, Y, iter = 3000):\n",
        "        np.random.seed(1)                         \n",
        "    \n",
        "        self.nInit()\n",
        "    \n",
        "        for i in range(0, iter):\n",
        "            Yh, loss=self.forward()\n",
        "            self.backward()\n",
        "            #loss_v = np.vectorize(loss)\n",
        "            if i % 500 == 0:\n",
        "                print (\"Cost after iteration %i: %f\" %(i, loss))\n",
        "                self.loss.append(loss)\n",
        "\n",
        "        plt.plot(np.squeeze(self.loss))\n",
        "        plt.ylabel('Loss')\n",
        "        plt.xlabel('Iter')\n",
        "        plt.title(\"Lr =\" + str(self.lr))\n",
        "        plt.show()\n",
        "    \n",
        "        return \n"
      ]
    },
    {
      "cell_type": "code",
      "execution_count": null,
      "metadata": {
        "id": "-T2P1KuuWxVD"
      },
      "outputs": [],
      "source": [
        "from imblearn import under_sampling, over_sampling"
      ]
    },
    {
      "cell_type": "code",
      "execution_count": null,
      "metadata": {
        "id": "toVQuaM5WxVD",
        "outputId": "6ceca2d1-f975-4f9d-cb12-b71cb2b58a83"
      },
      "outputs": [
        {
          "name": "stdout",
          "output_type": "stream",
          "text": [
            "['A', 'C', 'D', 'E', 'F', 'G', 'H', 'I', 'K', 'L', 'M', 'N', 'P', 'Q', 'R', 'S', 'T', 'V', 'W', 'X', 'Y']\n",
            "21\n"
          ]
        }
      ],
      "source": [
        "label = []\n",
        "Peptide = []\n",
        "with open('train.dat') as f: \n",
        "    for line in f:\n",
        "        peptide = re.sub('\\n','', line)\n",
        "        peptide = re.sub('\\t','', peptide)\n",
        "        #peptide = peptide.lstrip(\"\\t\")\n",
        "        peptide = peptide.strip('1-1')\n",
        "       # print(Peptide)\n",
        "        Peptide.append(peptide)\n",
        "#print(Peptide)\n",
        "Peptide_list_temp = []\n",
        "Peptide_list = []\n",
        "N = len(Peptide)\n",
        "for i in range(N):\n",
        "    Peptide_list.append(list(Peptide[i]))\n",
        "    \n",
        "new_peptide_list = sum(Peptide_list, [])\n",
        "peptide_array = np.array(new_peptide_list)\n",
        "dictionary = np.unique(peptide_array)\n",
        "print(list(dictionary))\n",
        "print(len(dictionary))"
      ]
    },
    {
      "cell_type": "code",
      "execution_count": null,
      "metadata": {
        "id": "qqvdtn0mWxVE"
      },
      "outputs": [],
      "source": [
        "# key, value for all chars in string e.g hashmap['D'] = 2\n",
        "string = \"TLNTVVGSISGAVP\"\n",
        "def peptide_to_feature(string):\n",
        "    dictionary = ['A','B','C','D','E','F', 'G', 'H', 'I','J', 'K', 'L', 'M', 'N','O', 'P', 'Q', 'R', 'S', 'T', 'U','V',\n",
        " 'W', 'X', 'Y', 'Z']\n",
        "    hashmap = dict.fromkeys(dictionary, 0)\n",
        "    for j in range(len(string)):\n",
        "        for i in hashmap:\n",
        "            if i == string[j]:\n",
        "                hashmap[i] = hashmap[i]+1\n",
        "    return hashmap"
      ]
    },
    {
      "cell_type": "code",
      "execution_count": null,
      "metadata": {
        "id": "QojP_d7VWxVF",
        "outputId": "713ecaae-0a8c-48d4-f779-109a3c2c4df8"
      },
      "outputs": [
        {
          "name": "stdout",
          "output_type": "stream",
          "text": [
            "{'A': 1, 'B': 0, 'C': 0, 'D': 0, 'E': 0, 'F': 0, 'G': 2, 'H': 0, 'I': 1, 'J': 0, 'K': 0, 'L': 1, 'M': 0, 'N': 1, 'O': 0, 'P': 1, 'Q': 0, 'R': 0, 'S': 2, 'T': 2, 'U': 0, 'V': 3, 'W': 0, 'X': 0, 'Y': 0, 'Z': 0}\n"
          ]
        }
      ],
      "source": [
        "hashmap0 = (peptide_to_feature(string))\n",
        "print(hashmap0)\n",
        "dictionary = ['A','B','C','D','E','F', 'G', 'H', 'I','J', 'K', 'L', 'M', 'N','O', 'P', 'Q', 'R', 'S', 'T', 'U','V',\n",
        " 'W', 'X', 'Y', 'Z']"
      ]
    },
    {
      "cell_type": "code",
      "execution_count": null,
      "metadata": {
        "id": "6ZmGGDj0WxVF"
      },
      "outputs": [],
      "source": [
        "file = pd.read_csv('train.dat', sep=\"\\t\", names=['Label','Peptide'])\n",
        "#file.insert(0, 'Label')\n",
        "main_df = pd.DataFrame(file)"
      ]
    },
    {
      "cell_type": "code",
      "execution_count": null,
      "metadata": {
        "id": "oxlnmTRaWxVF",
        "outputId": "da2422c2-7633-44e7-9823-501f919ad424"
      },
      "outputs": [
        {
          "name": "stdout",
          "output_type": "stream",
          "text": [
            "      Label                                      Peptide   A   B   C   D   E  \\\n",
            "0        -1                              DVELDLVEISPNALP NaN NaN NaN NaN NaN   \n",
            "1        -1                               KADEELFNKLFFGT NaN NaN NaN NaN NaN   \n",
            "2        -1  FLVALHLGTAFALLWYFRKRWCALVRGFFASFGGRRNDDAHMM NaN NaN NaN NaN NaN   \n",
            "3        -1                         RDQMRARIADITGVAISRIA NaN NaN NaN NaN NaN   \n",
            "4        -1                                    RKRLQLLLL NaN NaN NaN NaN NaN   \n",
            "...     ...                                          ...  ..  ..  ..  ..  ..   \n",
            "1561     -1                                    YAQSEGDTG NaN NaN NaN NaN NaN   \n",
            "1562      1                          FIKHFIHRFGGGRWRWRWF NaN NaN NaN NaN NaN   \n",
            "1563      1                                   KWKIRVRLSA NaN NaN NaN NaN NaN   \n",
            "1564     -1                               TLNTVVGSISGAVP NaN NaN NaN NaN NaN   \n",
            "1565     -1                                        HFRSQ NaN NaN NaN NaN NaN   \n",
            "\n",
            "       F   G   H  ...   Q   R   S   T   U   V   W   X   Y   Z  \n",
            "0    NaN NaN NaN  ... NaN NaN NaN NaN NaN NaN NaN NaN NaN NaN  \n",
            "1    NaN NaN NaN  ... NaN NaN NaN NaN NaN NaN NaN NaN NaN NaN  \n",
            "2    NaN NaN NaN  ... NaN NaN NaN NaN NaN NaN NaN NaN NaN NaN  \n",
            "3    NaN NaN NaN  ... NaN NaN NaN NaN NaN NaN NaN NaN NaN NaN  \n",
            "4    NaN NaN NaN  ... NaN NaN NaN NaN NaN NaN NaN NaN NaN NaN  \n",
            "...   ..  ..  ..  ...  ..  ..  ..  ..  ..  ..  ..  ..  ..  ..  \n",
            "1561 NaN NaN NaN  ... NaN NaN NaN NaN NaN NaN NaN NaN NaN NaN  \n",
            "1562 NaN NaN NaN  ... NaN NaN NaN NaN NaN NaN NaN NaN NaN NaN  \n",
            "1563 NaN NaN NaN  ... NaN NaN NaN NaN NaN NaN NaN NaN NaN NaN  \n",
            "1564 NaN NaN NaN  ... NaN NaN NaN NaN NaN NaN NaN NaN NaN NaN  \n",
            "1565 NaN NaN NaN  ... NaN NaN NaN NaN NaN NaN NaN NaN NaN NaN  \n",
            "\n",
            "[1566 rows x 28 columns]\n"
          ]
        }
      ],
      "source": [
        "#selected_df = main_df.drop(columns=['Label'])\n",
        "#main_df = main_df.head(100)\n",
        "#main_df[\"Label\"].replace(-1, 0, inplace=True)\n",
        "main_df = main_df.reindex(columns=main_df.columns.tolist() + list(dictionary))\n",
        "Label_list = main_df['Label'].to_list()\n",
        "print(main_df)"
      ]
    },
    {
      "cell_type": "code",
      "execution_count": null,
      "metadata": {
        "id": "mxryaNO0WxVF",
        "outputId": "acccc6ab-c56d-4a2e-f170-740063c4ed7d"
      },
      "outputs": [
        {
          "name": "stdout",
          "output_type": "stream",
          "text": [
            "      Label                                      Peptide    A    B    C    D  \\\n",
            "0        -1                              DVELDLVEISPNALP  1.0  0.0  0.0  2.0   \n",
            "1        -1                               KADEELFNKLFFGT  1.0  0.0  0.0  1.0   \n",
            "2        -1  FLVALHLGTAFALLWYFRKRWCALVRGFFASFGGRRNDDAHMM  6.0  0.0  1.0  2.0   \n",
            "3        -1                         RDQMRARIADITGVAISRIA  4.0  0.0  0.0  2.0   \n",
            "4        -1                                    RKRLQLLLL  0.0  0.0  0.0  0.0   \n",
            "...     ...                                          ...  ...  ...  ...  ...   \n",
            "1561     -1                                    YAQSEGDTG  1.0  0.0  0.0  1.0   \n",
            "1562      1                          FIKHFIHRFGGGRWRWRWF  0.0  0.0  0.0  0.0   \n",
            "1563      1                                   KWKIRVRLSA  1.0  0.0  0.0  0.0   \n",
            "1564     -1                               TLNTVVGSISGAVP  1.0  0.0  0.0  0.0   \n",
            "1565     -1                                        HFRSQ  0.0  0.0  0.0  0.0   \n",
            "\n",
            "        E    F    G    H  ...    Q    R    S    T    U    V    W    X    Y  \\\n",
            "0     2.0  0.0  0.0  0.0  ...  0.0  0.0  1.0  0.0  0.0  2.0  0.0  0.0  0.0   \n",
            "1     2.0  3.0  1.0  0.0  ...  0.0  0.0  0.0  1.0  0.0  0.0  0.0  0.0  0.0   \n",
            "2     0.0  6.0  4.0  2.0  ...  0.0  5.0  1.0  1.0  0.0  2.0  2.0  0.0  1.0   \n",
            "3     0.0  0.0  1.0  0.0  ...  1.0  4.0  1.0  1.0  0.0  1.0  0.0  0.0  0.0   \n",
            "4     0.0  0.0  0.0  0.0  ...  1.0  2.0  0.0  0.0  0.0  0.0  0.0  0.0  0.0   \n",
            "...   ...  ...  ...  ...  ...  ...  ...  ...  ...  ...  ...  ...  ...  ...   \n",
            "1561  1.0  0.0  2.0  0.0  ...  1.0  0.0  1.0  1.0  0.0  0.0  0.0  0.0  1.0   \n",
            "1562  0.0  4.0  3.0  2.0  ...  0.0  4.0  0.0  0.0  0.0  0.0  3.0  0.0  0.0   \n",
            "1563  0.0  0.0  0.0  0.0  ...  0.0  2.0  1.0  0.0  0.0  1.0  1.0  0.0  0.0   \n",
            "1564  0.0  0.0  2.0  0.0  ...  0.0  0.0  2.0  2.0  0.0  3.0  0.0  0.0  0.0   \n",
            "1565  0.0  1.0  0.0  1.0  ...  1.0  1.0  1.0  0.0  0.0  0.0  0.0  0.0  0.0   \n",
            "\n",
            "        Z  \n",
            "0     0.0  \n",
            "1     0.0  \n",
            "2     0.0  \n",
            "3     0.0  \n",
            "4     0.0  \n",
            "...   ...  \n",
            "1561  0.0  \n",
            "1562  0.0  \n",
            "1563  0.0  \n",
            "1564  0.0  \n",
            "1565  0.0  \n",
            "\n",
            "[1566 rows x 28 columns]\n"
          ]
        }
      ],
      "source": [
        "N = 1566\n",
        "for i in range(N):\n",
        "    string = main_df.at[i, \"Peptide\"]\n",
        "    hashmap = peptide_to_feature(string)\n",
        "    main_df.at[i, list(dictionary)] = list(hashmap.values())\n",
        "print(main_df)"
      ]
    },
    {
      "cell_type": "code",
      "execution_count": null,
      "metadata": {
        "id": "vo0dK_cwWxVF",
        "outputId": "482b9dbb-e876-47b0-f996-ee980fd5bc5b"
      },
      "outputs": [
        {
          "name": "stdout",
          "output_type": "stream",
          "text": [
            "             A    B         C      D    E      F    G         H    I    J  \\\n",
            "0     0.071429  0.0  0.000000  0.250  0.2  0.000  0.0  0.000000  0.1  0.0   \n",
            "1     0.071429  0.0  0.000000  0.125  0.2  0.375  0.1  0.000000  0.0  0.0   \n",
            "2     0.428571  0.0  0.066667  0.250  0.0  0.750  0.4  0.142857  0.0  0.0   \n",
            "3     0.285714  0.0  0.000000  0.250  0.0  0.000  0.1  0.000000  0.4  0.0   \n",
            "4     0.000000  0.0  0.000000  0.000  0.0  0.000  0.0  0.000000  0.0  0.0   \n",
            "...        ...  ...       ...    ...  ...    ...  ...       ...  ...  ...   \n",
            "1561  0.071429  0.0  0.000000  0.125  0.1  0.000  0.2  0.000000  0.0  0.0   \n",
            "1562  0.000000  0.0  0.000000  0.000  0.0  0.500  0.3  0.142857  0.2  0.0   \n",
            "1563  0.071429  0.0  0.000000  0.000  0.0  0.000  0.0  0.000000  0.1  0.0   \n",
            "1564  0.071429  0.0  0.000000  0.000  0.0  0.000  0.2  0.000000  0.1  0.0   \n",
            "1565  0.000000  0.0  0.000000  0.000  0.0  0.125  0.0  0.071429  0.0  0.0   \n",
            "\n",
            "      ...       Q         R         S         T    U         V         W    X  \\\n",
            "0     ...  0.0000  0.000000  0.071429  0.000000  0.0  0.222222  0.000000  0.0   \n",
            "1     ...  0.0000  0.000000  0.000000  0.090909  0.0  0.000000  0.000000  0.0   \n",
            "2     ...  0.0000  0.384615  0.071429  0.090909  0.0  0.222222  0.333333  0.0   \n",
            "3     ...  0.0625  0.307692  0.071429  0.090909  0.0  0.111111  0.000000  0.0   \n",
            "4     ...  0.0625  0.153846  0.000000  0.000000  0.0  0.000000  0.000000  0.0   \n",
            "...   ...     ...       ...       ...       ...  ...       ...       ...  ...   \n",
            "1561  ...  0.0625  0.000000  0.071429  0.090909  0.0  0.000000  0.000000  0.0   \n",
            "1562  ...  0.0000  0.307692  0.000000  0.000000  0.0  0.000000  0.500000  0.0   \n",
            "1563  ...  0.0000  0.153846  0.071429  0.000000  0.0  0.111111  0.166667  0.0   \n",
            "1564  ...  0.0000  0.000000  0.142857  0.181818  0.0  0.333333  0.000000  0.0   \n",
            "1565  ...  0.0625  0.076923  0.071429  0.000000  0.0  0.000000  0.000000  0.0   \n",
            "\n",
            "             Y    Z  \n",
            "0     0.000000  0.0  \n",
            "1     0.000000  0.0  \n",
            "2     0.166667  0.0  \n",
            "3     0.000000  0.0  \n",
            "4     0.000000  0.0  \n",
            "...        ...  ...  \n",
            "1561  0.166667  0.0  \n",
            "1562  0.000000  0.0  \n",
            "1563  0.000000  0.0  \n",
            "1564  0.000000  0.0  \n",
            "1565  0.000000  0.0  \n",
            "\n",
            "[1566 rows x 26 columns]\n"
          ]
        }
      ],
      "source": [
        "#names = main_df.columns[list(dictionary)]\n",
        "scaler = MinMaxScaler() \n",
        "scaled_df = scaler.fit_transform(main_df.loc[:, list(dictionary)])\n",
        "scaled_df = pd.DataFrame(scaled_df, columns=list(dictionary))\n",
        "print(scaled_df)"
      ]
    },
    {
      "cell_type": "code",
      "execution_count": null,
      "metadata": {
        "id": "L4tGF9cFWxVG",
        "outputId": "7bf3848d-e36a-4a5b-a87d-8abe5fafcd89"
      },
      "outputs": [
        {
          "name": "stdout",
          "output_type": "stream",
          "text": [
            "      Label         A    B         C      D    E      F    G         H    I  \\\n",
            "0        -1  0.071429  0.0  0.000000  0.250  0.2  0.000  0.0  0.000000  0.1   \n",
            "1        -1  0.071429  0.0  0.000000  0.125  0.2  0.375  0.1  0.000000  0.0   \n",
            "2        -1  0.428571  0.0  0.066667  0.250  0.0  0.750  0.4  0.142857  0.0   \n",
            "3        -1  0.285714  0.0  0.000000  0.250  0.0  0.000  0.1  0.000000  0.4   \n",
            "4        -1  0.000000  0.0  0.000000  0.000  0.0  0.000  0.0  0.000000  0.0   \n",
            "...     ...       ...  ...       ...    ...  ...    ...  ...       ...  ...   \n",
            "1561     -1  0.071429  0.0  0.000000  0.125  0.1  0.000  0.2  0.000000  0.0   \n",
            "1562      1  0.000000  0.0  0.000000  0.000  0.0  0.500  0.3  0.142857  0.2   \n",
            "1563      1  0.071429  0.0  0.000000  0.000  0.0  0.000  0.0  0.000000  0.1   \n",
            "1564     -1  0.071429  0.0  0.000000  0.000  0.0  0.000  0.2  0.000000  0.1   \n",
            "1565     -1  0.000000  0.0  0.000000  0.000  0.0  0.125  0.0  0.071429  0.0   \n",
            "\n",
            "      ...       Q         R         S         T    U         V         W    X  \\\n",
            "0     ...  0.0000  0.000000  0.071429  0.000000  0.0  0.222222  0.000000  0.0   \n",
            "1     ...  0.0000  0.000000  0.000000  0.090909  0.0  0.000000  0.000000  0.0   \n",
            "2     ...  0.0000  0.384615  0.071429  0.090909  0.0  0.222222  0.333333  0.0   \n",
            "3     ...  0.0625  0.307692  0.071429  0.090909  0.0  0.111111  0.000000  0.0   \n",
            "4     ...  0.0625  0.153846  0.000000  0.000000  0.0  0.000000  0.000000  0.0   \n",
            "...   ...     ...       ...       ...       ...  ...       ...       ...  ...   \n",
            "1561  ...  0.0625  0.000000  0.071429  0.090909  0.0  0.000000  0.000000  0.0   \n",
            "1562  ...  0.0000  0.307692  0.000000  0.000000  0.0  0.000000  0.500000  0.0   \n",
            "1563  ...  0.0000  0.153846  0.071429  0.000000  0.0  0.111111  0.166667  0.0   \n",
            "1564  ...  0.0000  0.000000  0.142857  0.181818  0.0  0.333333  0.000000  0.0   \n",
            "1565  ...  0.0625  0.076923  0.071429  0.000000  0.0  0.000000  0.000000  0.0   \n",
            "\n",
            "             Y    Z  \n",
            "0     0.000000  0.0  \n",
            "1     0.000000  0.0  \n",
            "2     0.166667  0.0  \n",
            "3     0.000000  0.0  \n",
            "4     0.000000  0.0  \n",
            "...        ...  ...  \n",
            "1561  0.166667  0.0  \n",
            "1562  0.000000  0.0  \n",
            "1563  0.000000  0.0  \n",
            "1564  0.000000  0.0  \n",
            "1565  0.000000  0.0  \n",
            "\n",
            "[1566 rows x 27 columns]\n"
          ]
        }
      ],
      "source": [
        "scaled_df.insert(0, 'Label', Label_list)\n",
        "print(scaled_df)"
      ]
    },
    {
      "cell_type": "code",
      "execution_count": null,
      "metadata": {
        "id": "EZi9wWcgWxVG"
      },
      "outputs": [],
      "source": [
        "pep_anti = scaled_df[scaled_df['Label']==1]\n",
        "pep_nanti = scaled_df[scaled_df['Label']==0]"
      ]
    },
    {
      "cell_type": "code",
      "execution_count": null,
      "metadata": {
        "id": "LetTYmWYWxVG"
      },
      "outputs": [],
      "source": [
        "# change main_df to scaled_df to get normalization back "
      ]
    },
    {
      "cell_type": "code",
      "execution_count": null,
      "metadata": {
        "id": "QTv-5orpWxVG",
        "outputId": "0e1f1428-5dd7-45c0-e49d-996b44bd566a"
      },
      "outputs": [
        {
          "name": "stdout",
          "output_type": "stream",
          "text": [
            "(142, 27)\n",
            "[(-1, 1424), (1, 142)]\n"
          ]
        }
      ],
      "source": [
        "print(pep_anti.shape)\n",
        "print(sorted(Counter(main_df['Label']).items()))\n",
        "X = main_df\n",
        "Y = main_df['Label']\n",
        "X.drop('Label', axis=1, inplace=True)"
      ]
    },
    {
      "cell_type": "code",
      "execution_count": null,
      "metadata": {
        "id": "0dKw_L7OWxVG",
        "outputId": "8337af20-a596-4484-f339-04734ceffb47"
      },
      "outputs": [
        {
          "name": "stdout",
          "output_type": "stream",
          "text": [
            "[(-1, 1424), (1, 1424)] (2848,)\n",
            "      Label                                      Peptide    A    B    C    D  \\\n",
            "0        -1                              DVELDLVEISPNALP  1.0  0.0  0.0  2.0   \n",
            "1        -1                               KADEELFNKLFFGT  1.0  0.0  0.0  1.0   \n",
            "2        -1  FLVALHLGTAFALLWYFRKRWCALVRGFFASFGGRRNDDAHMM  6.0  0.0  1.0  2.0   \n",
            "3        -1                         RDQMRARIADITGVAISRIA  4.0  0.0  0.0  2.0   \n",
            "4        -1                                    RKRLQLLLL  0.0  0.0  0.0  0.0   \n",
            "...     ...                                          ...  ...  ...  ...  ...   \n",
            "2843      1                             RPAFRKAAFRVMRACV  4.0  0.0  1.0  0.0   \n",
            "2844      1                    GWGSFFKKAAHVGKHVGKAALTHYL  4.0  0.0  0.0  0.0   \n",
            "2845      1                                FLGALFKALSKLL  2.0  0.0  0.0  0.0   \n",
            "2846      1                                     FWRRFWRR  0.0  0.0  0.0  0.0   \n",
            "2847      1               KSKEKIGKEFKRIVQRIKDFLRNLVPRTES  0.0  0.0  0.0  1.0   \n",
            "\n",
            "        E    F    G    H  ...    Q    R    S    T    U    V    W    X    Y  \\\n",
            "0     2.0  0.0  0.0  0.0  ...  0.0  0.0  1.0  0.0  0.0  2.0  0.0  0.0  0.0   \n",
            "1     2.0  3.0  1.0  0.0  ...  0.0  0.0  0.0  1.0  0.0  0.0  0.0  0.0  0.0   \n",
            "2     0.0  6.0  4.0  2.0  ...  0.0  5.0  1.0  1.0  0.0  2.0  2.0  0.0  1.0   \n",
            "3     0.0  0.0  1.0  0.0  ...  1.0  4.0  1.0  1.0  0.0  1.0  0.0  0.0  0.0   \n",
            "4     0.0  0.0  0.0  0.0  ...  1.0  2.0  0.0  0.0  0.0  0.0  0.0  0.0  0.0   \n",
            "...   ...  ...  ...  ...  ...  ...  ...  ...  ...  ...  ...  ...  ...  ...   \n",
            "2843  0.0  2.0  0.0  0.0  ...  0.0  4.0  0.0  0.0  0.0  2.0  0.0  0.0  0.0   \n",
            "2844  0.0  2.0  4.0  3.0  ...  0.0  0.0  1.0  1.0  0.0  2.0  1.0  0.0  1.0   \n",
            "2845  0.0  2.0  1.0  0.0  ...  0.0  0.0  1.0  0.0  0.0  0.0  0.0  0.0  0.0   \n",
            "2846  0.0  2.0  0.0  0.0  ...  0.0  4.0  0.0  0.0  0.0  0.0  2.0  0.0  0.0   \n",
            "2847  3.0  2.0  1.0  0.0  ...  1.0  4.0  2.0  1.0  0.0  2.0  0.0  0.0  0.0   \n",
            "\n",
            "        Z  \n",
            "0     0.0  \n",
            "1     0.0  \n",
            "2     0.0  \n",
            "3     0.0  \n",
            "4     0.0  \n",
            "...   ...  \n",
            "2843  0.0  \n",
            "2844  0.0  \n",
            "2845  0.0  \n",
            "2846  0.0  \n",
            "2847  0.0  \n",
            "\n",
            "[2848 rows x 28 columns]\n"
          ]
        }
      ],
      "source": [
        "from imblearn.over_sampling import RandomOverSampler\n",
        "ros = RandomOverSampler(random_state=0)\n",
        "X_resampled, y_resampled = ros.fit_resample(X, Y)\n",
        "print(sorted(Counter(y_resampled).items()),y_resampled.shape)\n",
        "oversampled_df = pd.DataFrame(X_resampled)\n",
        "oversampled_df.insert(0, 'Label', y_resampled)\n",
        "#print(y_resampled)\n",
        "print(oversampled_df)"
      ]
    },
    {
      "cell_type": "code",
      "execution_count": null,
      "metadata": {
        "id": "gMuEOfBnWxVG"
      },
      "outputs": [],
      "source": [
        "#oversampled_df = oversampled_df.astype(int)"
      ]
    },
    {
      "cell_type": "code",
      "execution_count": null,
      "metadata": {
        "id": "EmjH4kJVWxVH",
        "outputId": "ac8f39df-aabe-4842-c303-21b410777036"
      },
      "outputs": [
        {
          "data": {
            "text/plain": [
              "<AxesSubplot:ylabel='Frequency'>"
            ]
          },
          "execution_count": 139,
          "metadata": {},
          "output_type": "execute_result"
        },
        {
          "data": {
            "image/png": "[encoded data removed]",
            "text/plain": [
              "<Figure size 432x288 with 1 Axes>"
            ]
          },
          "metadata": {
            "needs_background": "light"
          },
          "output_type": "display_data"
        },
        {
          "data": {
            "image/png": "[encoded data removed]",
            "text/plain": [
              "<Figure size 432x288 with 1 Axes>"
            ]
          },
          "metadata": {
            "needs_background": "light"
          },
          "output_type": "display_data"
        }
      ],
      "source": [
        "oversampled_df.loc[0:10, list(dictionary)].plot.bar();\n",
        "oversampled_df.loc[0:10, list(dictionary)].plot.hist(alpha=0.5)"
      ]
    },
    {
      "cell_type": "code",
      "execution_count": null,
      "metadata": {
        "id": "n5ExvpZOWxVH",
        "outputId": "7745cac1-fe01-44f7-8900-42af952b5939"
      },
      "outputs": [
        {
          "name": "stdout",
          "output_type": "stream",
          "text": [
            "<class 'list'>\n",
            "<class 'numpy.ndarray'>\n",
            "(26, 570)\n",
            "(26, 2278)\n",
            "(1, 2278)\n",
            "(1, 570)\n"
          ]
        }
      ],
      "source": [
        "x_train = list(oversampled_df.loc[570:2848, list(dictionary)].values)\n",
        "x_val = list(oversampled_df.loc[0:569, list(dictionary)].values)\n",
        "y_train = list(oversampled_df.loc[570:2848, 'Label'])\n",
        "y_val = list(oversampled_df.loc[0:569, 'Label'])\n",
        "\n",
        "print (type(x_train))\n",
        "#print (y_train)\n",
        "\n",
        "x_train = np.array(x_train).astype(int)\n",
        "x_val = np.array(x_val).astype(int)\n",
        "x_train = x_train.T\n",
        "x_val = x_val.T\n",
        "\n",
        "print(type(x_train))\n",
        "print(x_val.shape)\n",
        "print(x_train.shape)\n",
        "#y_train.shape()\n",
        "\n",
        "y_train = np.array(y_train).astype(int)\n",
        "y_val = np.array(y_val).astype(int)\n",
        "#print(y_val)\n",
        "y_train = np.where(y_train<0, 0, y_train)\n",
        "y_val = np.where(y_val<0, 0, y_val)\n",
        "\n",
        "y_train = np.reshape(y_train,(1,-1))\n",
        "y_val = np.reshape(y_val,(1,-1))\n",
        "print(y_train.shape)\n",
        "print(y_val.shape)"
      ]
    },
    {
      "cell_type": "code",
      "execution_count": null,
      "metadata": {
        "id": "Ebd6T5AUWxVH"
      },
      "outputs": [],
      "source": [
        "nn = dlnet(x_train,y_train)\n",
        "nn.lr = 0.07\n",
        "nn.lambda_value = 0.009\n",
        "nn.dims = [26, 38, 15, 1]"
      ]
    },
    {
      "cell_type": "code",
      "execution_count": null,
      "metadata": {
        "id": "4FmmbazrWxVH",
        "outputId": "bb759f4f-4d7c-49c1-b4f7-955b5f62dffa"
      },
      "outputs": [
        {
          "name": "stdout",
          "output_type": "stream",
          "text": [
            "Cost after iteration 0: 536.888412\n",
            "Cost after iteration 500: 345.556077\n",
            "Cost after iteration 1000: 241.618965\n",
            "Cost after iteration 1500: 188.816626\n",
            "Cost after iteration 2000: 160.540079\n",
            "Cost after iteration 2500: 145.071753\n",
            "Cost after iteration 3000: 136.681267\n",
            "Cost after iteration 3500: 132.180834\n",
            "Cost after iteration 4000: 129.882644\n",
            "Cost after iteration 4500: 128.787367\n",
            "Cost after iteration 5000: 128.185047\n",
            "Cost after iteration 5500: 127.836211\n",
            "Cost after iteration 6000: 127.714287\n",
            "Cost after iteration 6500: 127.675116\n",
            "Cost after iteration 7000: 127.630819\n",
            "Cost after iteration 7500: 127.540020\n",
            "Cost after iteration 8000: 127.406439\n",
            "Cost after iteration 8500: 127.212345\n",
            "Cost after iteration 9000: 127.090181\n",
            "Cost after iteration 9500: 127.016760\n",
            "Cost after iteration 10000: 126.990553\n",
            "Cost after iteration 10500: 126.974435\n",
            "Cost after iteration 11000: 126.947638\n",
            "Cost after iteration 11500: 126.943384\n",
            "Cost after iteration 12000: 126.917471\n",
            "Cost after iteration 12500: 126.933534\n",
            "Cost after iteration 13000: 126.939277\n",
            "Cost after iteration 13500: 126.952113\n",
            "Cost after iteration 14000: 126.949703\n",
            "Cost after iteration 14500: 126.939407\n",
            "Cost after iteration 15000: 126.956078\n",
            "Cost after iteration 15500: 126.883281\n",
            "Cost after iteration 16000: 126.770879\n",
            "Cost after iteration 16500: 126.659650\n",
            "Cost after iteration 17000: 126.565674\n",
            "Cost after iteration 17500: 126.503152\n",
            "Cost after iteration 18000: 126.458385\n",
            "Cost after iteration 18500: 126.430520\n",
            "Cost after iteration 19000: 126.392756\n",
            "Cost after iteration 19500: 126.370417\n",
            "Cost after iteration 20000: 126.353499\n",
            "Cost after iteration 20500: 126.335991\n",
            "Cost after iteration 21000: 126.328884\n",
            "Cost after iteration 21500: 126.325065\n",
            "Cost after iteration 22000: 126.318151\n",
            "Cost after iteration 22500: 126.322621\n",
            "Cost after iteration 23000: 126.326066\n",
            "Cost after iteration 23500: 126.322108\n",
            "Cost after iteration 24000: 126.319373\n",
            "Cost after iteration 24500: 126.331795\n",
            "Cost after iteration 25000: 126.326804\n",
            "Cost after iteration 25500: 126.328154\n",
            "Cost after iteration 26000: 126.337732\n",
            "Cost after iteration 26500: 126.338687\n",
            "Cost after iteration 27000: 126.338044\n",
            "Cost after iteration 27500: 126.348903\n",
            "Cost after iteration 28000: 126.331485\n",
            "Cost after iteration 28500: 126.311138\n",
            "Cost after iteration 29000: 126.295724\n",
            "Cost after iteration 29500: 126.285251\n",
            "Cost after iteration 30000: 126.292803\n",
            "Cost after iteration 30500: 126.245919\n",
            "Cost after iteration 31000: 126.256168\n",
            "Cost after iteration 31500: 126.238128\n",
            "Cost after iteration 32000: 126.247379\n",
            "Cost after iteration 32500: 126.246993\n",
            "Cost after iteration 33000: 126.243649\n",
            "Cost after iteration 33500: 126.243726\n",
            "Cost after iteration 34000: 126.257785\n",
            "Cost after iteration 34500: 126.239445\n",
            "Cost after iteration 35000: 126.253861\n",
            "Cost after iteration 35500: 126.255869\n"
          ]
        }
      ],
      "source": [
        "nn.gd(x_train, y_train, iter = 45000 )"
      ]
    },
    {
      "cell_type": "code",
      "execution_count": null,
      "metadata": {
        "id": "lHnh3sqKWxVH",
        "outputId": "3be3347b-dbbb-4f01-8590-fa263c12a64b"
      },
      "outputs": [
        {
          "name": "stdout",
          "output_type": "stream",
          "text": [
            "Acc: 0.39903424056189635\n",
            "Acc: 0.8999999999999999\n"
          ]
        },
        {
          "data": {
            "text/plain": [
              "numpy.ndarray"
            ]
          },
          "execution_count": 122,
          "metadata": {},
          "output_type": "execute_result"
        }
      ],
      "source": [
        "pred_train = nn.pred(x_train, y_train)\n",
        "pred_test = nn.pred(x_val, y_val)\n",
        "type(y_val)"
      ]
    },
    {
      "cell_type": "code",
      "execution_count": null,
      "metadata": {
        "id": "3xtt__5lWxVH",
        "outputId": "7f118c1d-4c1f-474f-c83b-b332299eafcb"
      },
      "outputs": [
        {
          "name": "stdout",
          "output_type": "stream",
          "text": [
            "Acc: 0.39903424056189635\n"
          ]
        },
        {
          "data": {
            "image/png": "[encoded data removed]",
            "text/plain": [
              "<Figure size 432x288 with 2 Axes>"
            ]
          },
          "metadata": {
            "needs_background": "light"
          },
          "output_type": "display_data"
        },
        {
          "name": "stdout",
          "output_type": "stream",
          "text": [
            "Acc: 0.8999999999999999\n"
          ]
        },
        {
          "data": {
            "image/png": "[encoded data removed]",
            "text/plain": [
              "<Figure size 432x288 with 2 Axes>"
            ]
          },
          "metadata": {
            "needs_background": "light"
          },
          "output_type": "display_data"
        }
      ],
      "source": [
        "nn.threshold=0.5\n",
        "\n",
        "nn.X,nn.Y = x_train, y_train \n",
        "target=np.around(np.squeeze(y_train), decimals=0).astype(np.int)\n",
        "predicted=np.around(np.squeeze(nn.pred(x_train,y_train)), decimals=0).astype(np.int)\n",
        "plotCf(target,predicted,'Cf Training Set')\n",
        "\n",
        "nn.X,nn.Y=x_val, y_val \n",
        "target=np.around(np.squeeze(y_val), decimals=0).astype(np.int)\n",
        "predicted=np.around(np.squeeze(nn.pred(x_val,y_val)), decimals=0).astype(np.int)\n",
        "plotCf(target,predicted,'Cf Validation Set')"
      ]
    },
    {
      "cell_type": "code",
      "execution_count": null,
      "metadata": {
        "id": "H6WfILglWxVI",
        "outputId": "44b84d89-249c-463b-9b47-4022fe9ae042"
      },
      "outputs": [
        {
          "name": "stdout",
          "output_type": "stream",
          "text": [
            "Acc: 0.9688323090430201\n"
          ]
        },
        {
          "data": {
            "image/png": "[encoded data removed]",
            "text/plain": [
              "<Figure size 432x288 with 2 Axes>"
            ]
          },
          "metadata": {
            "needs_background": "light"
          },
          "output_type": "display_data"
        },
        {
          "name": "stdout",
          "output_type": "stream",
          "text": [
            "Acc: 0.9719298245614035\n"
          ]
        },
        {
          "data": {
            "image/png": "[encoded data removed]",
            "text/plain": [
              "<Figure size 432x288 with 2 Axes>"
            ]
          },
          "metadata": {
            "needs_background": "light"
          },
          "output_type": "display_data"
        }
      ],
      "source": [
        "nn.threshold=0.7\n",
        "\n",
        "nn.X,nn.Y=x_train, y_train \n",
        "target=np.around(np.squeeze(y_train), decimals=0).astype(np.int)\n",
        "predicted=np.around(np.squeeze(nn.pred(x_train,y_train)), decimals=0).astype(np.int)\n",
        "plotCf(target,predicted,'Cf Training Set')\n",
        "\n",
        "nn.X,nn.Y=x_val, y_val \n",
        "target=np.around(np.squeeze(y_val), decimals=0).astype(np.int)\n",
        "predicted=np.around(np.squeeze(nn.pred(x_val,y_val)), decimals=0).astype(np.int)\n",
        "plotCf(target,predicted,'Cf Validation Set')"
      ]
    },
    {
      "cell_type": "code",
      "execution_count": null,
      "metadata": {
        "id": "OEO9S7mEWxVI",
        "outputId": "eb7fcc17-2683-4c65-d036-11398ab4a4e0"
      },
      "outputs": [
        {
          "name": "stdout",
          "output_type": "stream",
          "text": [
            "Acc: 0.9100087796312554\n"
          ]
        },
        {
          "data": {
            "image/png": "[encoded data removed]",
            "text/plain": [
              "<Figure size 432x288 with 2 Axes>"
            ]
          },
          "metadata": {
            "needs_background": "light"
          },
          "output_type": "display_data"
        },
        {
          "name": "stdout",
          "output_type": "stream",
          "text": [
            "Acc: 0.9771929824561403\n"
          ]
        },
        {
          "data": {
            "image/png": "[encoded data removed]",
            "text/plain": [
              "<Figure size 432x288 with 2 Axes>"
            ]
          },
          "metadata": {
            "needs_background": "light"
          },
          "output_type": "display_data"
        }
      ],
      "source": [
        "nn.threshold=0.9\n",
        "\n",
        "nn.X,nn.Y=x_train, y_train \n",
        "target=np.around(np.squeeze(y_train), decimals=0).astype(np.int)\n",
        "predicted=np.around(np.squeeze(nn.pred(x_train,y_train)), decimals=0).astype(np.int)\n",
        "plotCf(target,predicted,'Cf Training Set')\n",
        "\n",
        "nn.X,nn.Y=x_val, y_val \n",
        "target=np.around(np.squeeze(y_val), decimals=0).astype(np.int)\n",
        "predicted=np.around(np.squeeze(nn.pred(x_val,y_val)), decimals=0).astype(np.int)\n",
        "plotCf(target,predicted,'Cf Validation Set')"
      ]
    },
    {
      "cell_type": "code",
      "execution_count": null,
      "metadata": {
        "id": "Bq26ajVEWxVI",
        "outputId": "4b2ff770-c794-482b-eeb8-018029b380fd"
      },
      "outputs": [
        {
          "name": "stdout",
          "output_type": "stream",
          "text": [
            "\n",
            "y [[0 0 0 0 0 0 0 0 0 0 1 0 0 0 0 0 0 0 1 0 0 0 1 0 0 0 0 0 0 0 0 1 0 1 0 0\n",
            "  0 1 0 0 0 0 0 0 0 0 1 1 0 0]]\n",
            "\n",
            "yh [[0 0 0 0 1 0 0 0 0 0 1 0 0 0 0 0 0 1 1 0 0 0 1 0 1 0 0 0 0 0 0 1 0 1 0 0\n",
            "  0 1 0 0 0 0 0 0 0 0 1 1 0 0]] \n",
            "\n"
          ]
        }
      ],
      "source": [
        "nn.X,nn.Y=x_val, y_val \n",
        "yvalh, loss = nn.forward()\n",
        "print(\"\\ny\",np.around(y_val[:,0:50,], decimals=0).astype(np.int))       \n",
        "print(\"\\nyh\",np.around(yvalh[:,0:50,], decimals=0).astype(np.int),\"\\n\")         "
      ]
    },
    {
      "cell_type": "code",
      "execution_count": null,
      "metadata": {
        "id": "9oS8T3ysWxVI",
        "outputId": "5bd5afec-8e4c-42e2-ab50-55193403b87a"
      },
      "outputs": [
        {
          "name": "stdout",
          "output_type": "stream",
          "text": [
            "                                           Peptide\n",
            "0                      KPTNAYEFGQVLSTISARKDEEACAHL\n",
            "1               FLTAGDPDLETTRQALLALDREGADLIELGVPYS\n",
            "2                              RIVQRIKDFLRNLVPRTES\n",
            "3                                  ERWAPARSQAYLGVL\n",
            "4                           FSFEGRRRALQAQEGIAALRDN\n",
            "..                                             ...\n",
            "387     GAYSVQSYEEAFDDGCVVKVAKKVATEATDTRGRDEIRTSCD\n",
            "388  VISIPPVVEERPDGSKVEVAPEQNFVLINPEIIKASDQEDVGLEG\n",
            "389     TGHALEFAGSAIRGLSMEGRMTLCNMAIEAGARVGMVAVDEK\n",
            "390                     AVEVKGPKGVLVTPTHTELNYAVEDG\n",
            "391                     NSIAKAIKARGEVIHCKLRAMKELSE\n",
            "\n",
            "[392 rows x 1 columns]\n"
          ]
        }
      ],
      "source": [
        "file = pd.read_csv('test.dat', header=None) #, sep=\"\\t\", names=['Label','Peptide'])\n",
        "#file.insert(0, 'Label')\n",
        "test_df = pd.DataFrame(file)\n",
        "#print(test_df)\n",
        "test_df.columns = ['Peptide']\n",
        "print(test_df)\n",
        "test_df = test_df.reindex(columns=test_df.columns.tolist() + list(dictionary))\n",
        "#print(test_df)"
      ]
    },
    {
      "cell_type": "code",
      "execution_count": null,
      "metadata": {
        "id": "feRXSZ1zWxVI",
        "outputId": "42d66301-e740-4f89-d49a-1c1ae1cd7049"
      },
      "outputs": [
        {
          "name": "stdout",
          "output_type": "stream",
          "text": [
            "                                           Peptide    A    B    C    D    E  \\\n",
            "0                      KPTNAYEFGQVLSTISARKDEEACAHL  4.0  0.0  1.0  1.0  3.0   \n",
            "1               FLTAGDPDLETTRQALLALDREGADLIELGVPYS  4.0  0.0  0.0  4.0  3.0   \n",
            "2                              RIVQRIKDFLRNLVPRTES  0.0  0.0  0.0  1.0  1.0   \n",
            "3                                  ERWAPARSQAYLGVL  3.0  0.0  0.0  0.0  1.0   \n",
            "4                           FSFEGRRRALQAQEGIAALRDN  4.0  0.0  0.0  1.0  2.0   \n",
            "..                                             ...  ...  ...  ...  ...  ...   \n",
            "387     GAYSVQSYEEAFDDGCVVKVAKKVATEATDTRGRDEIRTSCD  5.0  0.0  2.0  5.0  4.0   \n",
            "388  VISIPPVVEERPDGSKVEVAPEQNFVLINPEIIKASDQEDVGLEG  2.0  0.0  0.0  3.0  7.0   \n",
            "389     TGHALEFAGSAIRGLSMEGRMTLCNMAIEAGARVGMVAVDEK  7.0  0.0  1.0  1.0  4.0   \n",
            "390                     AVEVKGPKGVLVTPTHTELNYAVEDG  2.0  0.0  0.0  1.0  3.0   \n",
            "391                     NSIAKAIKARGEVIHCKLRAMKELSE  4.0  0.0  1.0  0.0  3.0   \n",
            "\n",
            "       F    G    H    I  ...    Q    R    S    T    U    V    W    X    Y    Z  \n",
            "0    1.0  1.0  1.0  1.0  ...  1.0  1.0  2.0  2.0  0.0  1.0  0.0  0.0  1.0  0.0  \n",
            "1    1.0  3.0  0.0  1.0  ...  1.0  2.0  1.0  3.0  0.0  1.0  0.0  0.0  1.0  0.0  \n",
            "2    1.0  0.0  0.0  2.0  ...  1.0  4.0  1.0  1.0  0.0  2.0  0.0  0.0  0.0  0.0  \n",
            "3    0.0  1.0  0.0  0.0  ...  1.0  2.0  1.0  0.0  0.0  1.0  1.0  0.0  1.0  0.0  \n",
            "4    2.0  2.0  0.0  1.0  ...  2.0  4.0  1.0  0.0  0.0  0.0  0.0  0.0  0.0  0.0  \n",
            "..   ...  ...  ...  ...  ...  ...  ...  ...  ...  ...  ...  ...  ...  ...  ...  \n",
            "387  1.0  3.0  0.0  1.0  ...  1.0  3.0  3.0  4.0  0.0  5.0  0.0  0.0  2.0  0.0  \n",
            "388  1.0  3.0  0.0  5.0  ...  2.0  1.0  3.0  0.0  0.0  7.0  0.0  0.0  0.0  0.0  \n",
            "389  1.0  6.0  1.0  2.0  ...  0.0  3.0  2.0  2.0  0.0  3.0  0.0  0.0  0.0  0.0  \n",
            "390  0.0  3.0  1.0  0.0  ...  0.0  0.0  0.0  3.0  0.0  5.0  0.0  0.0  1.0  0.0  \n",
            "391  0.0  1.0  1.0  3.0  ...  0.0  2.0  2.0  0.0  0.0  1.0  0.0  0.0  0.0  0.0  \n",
            "\n",
            "[392 rows x 27 columns]\n"
          ]
        }
      ],
      "source": [
        "N = 392\n",
        "for i in range(N):\n",
        "    string = test_df.at[i, \"Peptide\"]\n",
        "    hashmap = peptide_to_feature(string)\n",
        "    test_df.at[i, list(dictionary)] = list(hashmap.values())\n",
        "print(test_df)"
      ]
    },
    {
      "cell_type": "code",
      "execution_count": null,
      "metadata": {
        "id": "hNhTNMW8WxVI",
        "outputId": "74d9e7d7-ba24-41ae-8561-1a25375ec24f"
      },
      "outputs": [
        {
          "name": "stdout",
          "output_type": "stream",
          "text": [
            "(26, 392)\n"
          ]
        }
      ],
      "source": [
        "x_test = list(test_df.loc[0:391, list(dictionary)].values)\n",
        "#y_test = np.zeros((391,), dtype=int)\n",
        "x_test = np.array(x_test).astype(int)\n",
        "x_test = x_test.T\n",
        "#y_test = np.reshape(y_test,(1,-1))\n",
        "print(x_test.shape)\n",
        "#print(y_test.shape)\n",
        "#y_test = np.array(y_test).astype(int)\n",
        "#x_train = x_test\n",
        "#print(type(y_test))"
      ]
    },
    {
      "cell_type": "code",
      "execution_count": null,
      "metadata": {
        "id": "D6ZikF7hWxVI",
        "outputId": "6ce9487f-301e-42c6-9aed-78f9428e811b"
      },
      "outputs": [
        {
          "name": "stdout",
          "output_type": "stream",
          "text": [
            "Testing is done\n",
            "(1, 392)\n",
            "392\n",
            "<class 'numpy.ndarray'>\n"
          ]
        }
      ],
      "source": [
        "nn.X = x_test\n",
        "y_test = nn.forward_test()\n",
        "print(y_test.shape)\n",
        "#print(y_test[0])\n",
        "y_test = np.around(y_test, decimals=0).astype(np.int)\n",
        "print(len(y_test[0]))\n",
        "#print(\"\\ny_test\",y_test.item(0))\n",
        "print(type(y_test))"
      ]
    },
    {
      "cell_type": "code",
      "execution_count": null,
      "metadata": {
        "id": "tg2K9kr1WxVI",
        "outputId": "e3d1a954-ae2f-4f90-a51d-491e9da798ea"
      },
      "outputs": [
        {
          "name": "stdout",
          "output_type": "stream",
          "text": [
            "     Label\n",
            "0       -1\n",
            "1       -1\n",
            "2       -1\n",
            "3       -1\n",
            "4       -1\n",
            "..     ...\n",
            "387      1\n",
            "388     -1\n",
            "389      1\n",
            "390      1\n",
            "391      1\n",
            "\n",
            "[392 rows x 1 columns]\n"
          ]
        }
      ],
      "source": [
        "file = pd.read_csv('format.dat', names=['Label'])\n",
        "#file.insert(0, 'Label')\n",
        "format_df = pd.DataFrame(file)\n",
        "#format_df.columns = ['Peptide']\n",
        "#test_df = test_df.reindex(columns=test_df.columns.tolist() + list(dictionary))\n",
        "print(format_df)"
      ]
    },
    {
      "cell_type": "code",
      "execution_count": null,
      "metadata": {
        "id": "hlweN6DPWxVJ",
        "outputId": "f4468853-1cbf-4900-b37d-8d7e7d1e1bbb"
      },
      "outputs": [
        {
          "name": "stdout",
          "output_type": "stream",
          "text": [
            "[0 0 0 0 0 1 1 0 0 0 0 1 0 1 0 1 1 1 1 0 1 1 0 1 1 0 1 0 1 0 1 0 0 1 1 0 0\n",
            " 0 0 1 0 1 0 1 1 1 0 0 0 0 0 1 1 1 1 0 1 0 0 1 1 0 1 0 1 1 1 1 0 0 1 0 1 1\n",
            " 0 1 1 1 0 0 0 1 0 0 0 1 0 1 0 1 1 1 1 0 0 1 1 1 0 1 1 0 1 0 1 1 1 1 0 1 1\n",
            " 1 1 1 0 0 1 1 0 1 1 0 1 1 0 1 1 0 0 0 1 0 1 1 1 0 0 0 1 0 1 0 1 0 0 1 0 1\n",
            " 1 0 1 0 1 1 1 0 0 0 1 0 1 0 1 1 0 0 1 0 0 0 1 1 1 0 0 1 1 1 0 1 1 0 0 0 1\n",
            " 0 0 0 0 0 1 0 1 1 1 0 1 1 0 0 1 0 0 0 1 1 1 1 0 1 0 0 1 1 1 1 0 0 0 0 1 1\n",
            " 1 1 1 0 0 1 1 0 0 0 1 0 0 1 1 1 1 1 1 0 0 0 1 0 1 0 1 1 0 0 1 1 1 0 0 0 1\n",
            " 0 0 0 0 1 0 0 0 1 1 0 1 1 0 1 1 0 0 1 0 0 0 1 1 0 1 1 1 0 1 1 0 0 1 0 0 0\n",
            " 0 1 1 0 1 1 1 0 1 0 1 1 0 1 0 1 1 0 1 1 1 1 0 0 0 0 1 0 0 1 0 1 1 1 1 0 0\n",
            " 1 0 1 1 1 0 0 0 1 0 1 0 1 0 0 1 0 0 1 1 0 0 1 0 0 0 0 0 1 1 0 0 0 1 1 0 1\n",
            " 1 1 0 1 1 0 0 0 0 0 1 0 0 0 1 0 1 1 0 1 1 1]\n"
          ]
        }
      ],
      "source": [
        "y_format = list(format_df['Label'])\n",
        "y_format = np.array(y_format)\n",
        "y_format = np.where(y_format<0, 0, y_format)\n",
        "print(y_format)"
      ]
    },
    {
      "cell_type": "code",
      "execution_count": null,
      "metadata": {
        "id": "TRhSk8yjWxVJ",
        "outputId": "b058bfcf-aa5a-473d-d636-f0c4cf43252e"
      },
      "outputs": [
        {
          "name": "stdout",
          "output_type": "stream",
          "text": [
            "     Label\n",
            "0       -1\n",
            "1       -1\n",
            "2        1\n",
            "3       -1\n",
            "4       -1\n",
            "..     ...\n",
            "387     -1\n",
            "388     -1\n",
            "389     -1\n",
            "390     -1\n",
            "391     -1\n",
            "\n",
            "[392 rows x 1 columns]\n"
          ]
        }
      ],
      "source": [
        "y_test = np.where(y_test==0, -1, y_test)\n",
        "y_test = y_test.astype(int)\n",
        "np.savetxt('prediction.txt', y_test, fmt='%d', delimiter='\\n', newline='\\n')\n",
        "file = pd.read_csv('prediction.txt', names=['Label'])\n",
        "#file = file.astype(int)\n",
        "print(file)"
      ]
    },
    {
      "cell_type": "code",
      "execution_count": null,
      "metadata": {
        "id": "AwLuGmFUWxVJ"
      },
      "outputs": [],
      "source": [
        "y_test = np.where(y_test<0, 0, y_test)"
      ]
    },
    {
      "cell_type": "code",
      "execution_count": null,
      "metadata": {
        "id": "lO_gaGKsWxVJ",
        "outputId": "a1fddcf2-f97c-45c4-bf4b-f2bc85e90cf8"
      },
      "outputs": [
        {
          "name": "stdout",
          "output_type": "stream",
          "text": [
            "(26, 392)\n",
            "(1, 392)\n",
            "Acc: 0.9311224489795917\n"
          ]
        }
      ],
      "source": [
        "print(x_test.shape)\n",
        "print(y_test.shape)\n",
        "nn.X = x_test\n",
        "nn.Y = y_test\n",
        "pred_train = nn.pred(x_test, y_test)"
      ]
    },
    {
      "cell_type": "code",
      "execution_count": null,
      "metadata": {
        "id": "pe_iQcz9WxVJ"
      },
      "outputs": [],
      "source": []
    },
    {
      "cell_type": "code",
      "execution_count": null,
      "metadata": {
        "id": "SYTNR852WxVJ"
      },
      "outputs": [],
      "source": []
    }
  ],
  "metadata": {
    "kernelspec": {
      "display_name": "hubpy3.7-tf2.3",
      "language": "python",
      "name": "hubpy3.7-tf2.3"
    },
    "language_info": {
      "codemirror_mode": {
        "name": "ipython",
        "version": 3
      },
      "file_extension": ".py",
      "mimetype": "text/x-python",
      "name": "python",
      "nbconvert_exporter": "python",
      "pygments_lexer": "ipython3",
      "version": "3.7.4"
    },
    "colab": {
      "provenance": []
    }
  },
  "nbformat": 4,
  "nbformat_minor": 0
}